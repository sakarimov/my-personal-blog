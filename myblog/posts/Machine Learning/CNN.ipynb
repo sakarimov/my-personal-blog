{
  "cells": [
    {
      "cell_type": "markdown",
      "metadata": {},
      "source": [
        "# \n",
        "\n",
        "<a target=\"_blank\" href=\"https://colab.research.google.com/github/sakarimov/Basic-ML-Model/blob/main/CNN.ipynb\">\n",
        "  <img src=\"https://colab.research.google.com/assets/colab-badge.svg\" alt=\"Open In Colab\"/>\n",
        "</a>\n"
      ],
      "id": "56b645d7"
    },
    {
      "cell_type": "code",
      "metadata": {},
      "source": [
        "import os\n",
        "os.environ['TF_CPP_MIN_LOG_LEVEL'] = '1' \n",
        "import tensorflow as tf\n",
        "print(tf.__version__)"
      ],
      "id": "4611428c",
      "execution_count": null,
      "outputs": []
    },
    {
      "cell_type": "code",
      "metadata": {},
      "source": [
        "try:\n",
        "  import google.colab\n",
        "  IN_COLAB = True\n",
        "except:\n",
        "  IN_COLAB = False\n",
        "\n",
        "IN_COLAB"
      ],
      "id": "0cafc29f",
      "execution_count": null,
      "outputs": []
    },
    {
      "cell_type": "code",
      "metadata": {},
      "source": [
        "import zipfile, os\n",
        "\n",
        "local_zip = (\n",
        "    'datasets/images/archive.zip' if IN_COLAB == False\n",
        "    else '/content/drive/MyDrive/datasets/images/archive.zip'\n",
        ")\n",
        "zip_ref = zipfile.ZipFile(local_zip, 'r')\n",
        "zip_ref.extractall('datasets/images/messy_clean_room/')\n",
        "zip_ref.close()\n",
        "\n",
        "base_dir = 'datasets/images/messy_clean_room/images'\n",
        "train_dir = os.path.join(base_dir, 'train')\n",
        "validation_dir = os.path.join(base_dir, 'val')"
      ],
      "id": "6fa7734f",
      "execution_count": null,
      "outputs": []
    },
    {
      "cell_type": "code",
      "metadata": {},
      "source": [
        "os.listdir(base_dir+'/train')"
      ],
      "id": "e52ed379",
      "execution_count": null,
      "outputs": []
    },
    {
      "cell_type": "code",
      "metadata": {},
      "source": [
        "os.listdir(base_dir+'/val')"
      ],
      "id": "c67eb684",
      "execution_count": null,
      "outputs": []
    },
    {
      "cell_type": "code",
      "metadata": {},
      "source": [
        "from tensorflow.keras.preprocessing.image import ImageDataGenerator\n",
        "\n",
        "train_datagen = ImageDataGenerator(\n",
        "    rescale = 1./255,\n",
        "    rotation_range = 20,\n",
        "    horizontal_flip = True,\n",
        "    shear_range = 0.2,\n",
        "    fill_mode = 'nearest')\n",
        "\n",
        "test_datagen = ImageDataGenerator(\n",
        "    rescale = 1./255)"
      ],
      "id": "4dff6a35",
      "execution_count": null,
      "outputs": []
    },
    {
      "cell_type": "code",
      "metadata": {},
      "source": [
        "train_generator = train_datagen.flow_from_directory(\n",
        "    train_dir,\n",
        "    target_size = (150,150),\n",
        "    batch_size = 4,\n",
        "    class_mode = 'binary')\n",
        "\n",
        "validation_generator = test_datagen.flow_from_directory(\n",
        "    validation_dir,\n",
        "    target_size = (150,150),\n",
        "    batch_size = 4,\n",
        "    class_mode = 'binary')"
      ],
      "id": "9ded8641",
      "execution_count": null,
      "outputs": []
    },
    {
      "cell_type": "code",
      "metadata": {},
      "source": [
        "dir(train_generator)"
      ],
      "id": "32632618",
      "execution_count": null,
      "outputs": []
    },
    {
      "cell_type": "code",
      "metadata": {},
      "source": [
        "model = tf.keras.models.Sequential([\n",
        "    tf.keras.Input(shape = (150, 150, 3)),\n",
        "    tf.keras.layers.Conv2D(32, (3,3), activation = 'relu'),\n",
        "    tf.keras.layers.MaxPooling2D(2,2),\n",
        "    tf.keras.layers.Conv2D(64, (3,3), activation = 'relu'),\n",
        "    tf.keras.layers.MaxPooling2D(2,2),\n",
        "    tf.keras.layers.Conv2D(128, (3,3), activation = 'relu'),\n",
        "    tf.keras.layers.MaxPooling2D(2,2),\n",
        "    tf.keras.layers.Conv2D(512, (3,3), activation = 'relu'),\n",
        "    tf.keras.layers.MaxPooling2D(2,2),\n",
        "    tf.keras.layers.Flatten(),\n",
        "    tf.keras.layers.Dense(512, activation = 'relu'),\n",
        "    tf.keras.layers.Dense(1, activation = 'sigmoid')\n",
        "])"
      ],
      "id": "020fab4a",
      "execution_count": null,
      "outputs": []
    },
    {
      "cell_type": "code",
      "metadata": {},
      "source": [
        "model = tf.keras.models.Sequential()\n",
        "model.add(tf.keras.Input(shape = (150, 150, 3))),\n",
        "model.add(tf.keras.layers.Conv2D(32, (3,3), activation = 'relu'))\n",
        "model.add(tf.keras.layers.MaxPooling2D((2,2)))\n",
        "model.add(tf.keras.layers.Conv2D(64, (3,3), activation = 'relu'))\n",
        "model.add(tf.keras.layers.MaxPooling2D((2,2)))\n",
        "model.add(tf.keras.layers.Conv2D(128, (3,3), activation = 'relu'))\n",
        "model.add(tf.keras.layers.MaxPooling2D((2,2)))\n",
        "model.add(tf.keras.layers.Conv2D(512, (3,3), activation = 'relu'))\n",
        "model.add(tf.keras.layers.MaxPooling2D((2,2)))\n",
        "model.add(tf.keras.layers.Flatten())\n",
        "model.add(tf.keras.layers.Dense(512, activation = 'relu'))\n",
        "model.add(tf.keras.layers.Dense(1, activation = 'sigmoid'))"
      ],
      "id": "0d998e4c",
      "execution_count": null,
      "outputs": []
    },
    {
      "cell_type": "code",
      "metadata": {
        "scrolled": true
      },
      "source": [
        "model.summary()"
      ],
      "id": "c5587b11",
      "execution_count": null,
      "outputs": []
    },
    {
      "cell_type": "code",
      "metadata": {},
      "source": [
        "model.compile(loss = 'binary_crossentropy',\n",
        "              optimizer = tf.optimizers.Adam(),\n",
        "              metrics = ['accuracy'])"
      ],
      "id": "8a00c38d",
      "execution_count": null,
      "outputs": []
    },
    {
      "cell_type": "markdown",
      "metadata": {},
      "source": [
        "model.fit(\n",
        "    train_generator,\n",
        "    epochs = 40,\n",
        "    validation_data = validation_generator,\n",
        "    validation_steps = 5,\n",
        "    verbose = 2)\n"
      ],
      "id": "88a7f399"
    },
    {
      "cell_type": "code",
      "metadata": {},
      "source": [
        "from tensorflow.keras.applications import ResNet50\n",
        "from tensorflow.keras.applications import ResNet152V2\n",
        "transfer = tf.keras.models.Sequential([\n",
        "    ResNet152V2(\n",
        "        weights = \"imagenet\", \n",
        "        include_top = False, \n",
        "        input_tensor = tf.keras.layers.Input(shape = (150,150,3))),\n",
        "    tf.keras.layers.Flatten(),\n",
        "    tf.keras.layers.Dense(128, activation = 'relu'),\n",
        "    tf.keras.layers.Dense(1, activation = 'softmax')\n",
        "])"
      ],
      "id": "8de0c0f0",
      "execution_count": null,
      "outputs": []
    },
    {
      "cell_type": "code",
      "metadata": {},
      "source": [
        "transfer.compile(loss = 'binary_crossentropy',\n",
        "              optimizer = tf.optimizers.Adam(),\n",
        "              metrics = ['accuracy'])"
      ],
      "id": "646724ab",
      "execution_count": null,
      "outputs": []
    },
    {
      "cell_type": "code",
      "metadata": {
        "scrolled": true
      },
      "source": [
        "transfer.fit(\n",
        "    train_generator,\n",
        "    epochs = 40,\n",
        "    validation_data = validation_generator,\n",
        "    validation_steps = 5,\n",
        "    verbose = 2)"
      ],
      "id": "a36cb469",
      "execution_count": null,
      "outputs": []
    }
  ],
  "metadata": {
    "kernelspec": {
      "name": "python3",
      "language": "python",
      "display_name": "Python 3 (ipykernel)"
    }
  },
  "nbformat": 4,
  "nbformat_minor": 5
}